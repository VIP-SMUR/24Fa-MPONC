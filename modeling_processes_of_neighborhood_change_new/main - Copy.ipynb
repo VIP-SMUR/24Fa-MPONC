{
 "cells": [
  {
   "cell_type": "code",
   "execution_count": 31,
   "metadata": {
    "ExecuteTime": {
     "end_time": "2024-10-07T02:22:28.111198Z",
     "start_time": "2024-10-07T02:22:28.104546Z"
    }
   },
   "outputs": [],
   "source": []
  },
  {
   "cell_type": "code",
   "execution_count": null,
   "metadata": {
    "ExecuteTime": {
     "end_time": "2024-10-07T02:41:12.299570Z",
     "start_time": "2024-10-07T02:41:12.279140Z"
    }
   },
   "outputs": [],
   "source": [
    "class Agent:\n",
    "    \n",
    "    def __init__(self, i, dow, city, alpha=0.5):\n",
    "\n",
    "        self.i = i # Agent instance identifier\n",
    "        self.dow = dow #endowment\n",
    "        self.city = city #city\n",
    "        self.alpha = alpha #Transit_access/Community weight\n",
    "\n",
    "        self.weights = None\n",
    "        self.probabilities = [0] * len(self.city.allNodes)\n",
    "        self.tot_probabilities = 0.0\n",
    "        self.avg_probabilities = None\n",
    "        self.u = None\n",
    "        \n",
    "        def reset(self):\n",
    "        # Assign weight 1 to housing nodes, weight 0 for transit nodes \n",
    "            self.weights = np.array([1.0 if not data['amt'] else 0 for data in self.city.allNodes.values()]) #array of 1's and 0's \n",
    "            \n",
    "            # Normalize probabilities (normalized weights array)\n",
    "            self.probabilities = np.array(self.weights / self.weights.sum())\n",
    "            \n",
    "            for a in self.probabilities:\n",
    "                self.tot_probabilities += a # TODO: review logic\n",
    "            \n",
    "            # Current node - Initialize starting position at random node (based on weights)\n",
    "            self.u = np.random.choice(list(self.city.housingDict.keys()), p=self.probabilities) \n",
    "            \n",
    "            # Adds self to node\n",
    "            self.city.housingDict[self.u]['inh'].add(self)"
   ]
  },
  {
   "cell_type": "code",
   "execution_count": 33,
   "metadata": {
    "ExecuteTime": {
     "end_time": "2024-10-07T02:30:25.078038Z",
     "start_time": "2024-10-07T02:30:25.071756Z"
    }
   },
   "outputs": [],
   "source": []
  },
  {
   "cell_type": "markdown",
   "metadata": {},
   "source": []
  },
  {
   "cell_type": "code",
   "execution_count": null,
   "metadata": {
    "ExecuteTime": {
     "end_time": "2024-10-07T02:25:00.915559Z",
     "start_time": "2024-10-07T02:24:58.633375Z"
    }
   },
   "outputs": [],
   "source": []
  },
  {
   "cell_type": "code",
   "execution_count": null,
   "metadata": {
    "ExecuteTime": {
     "end_time": "2024-10-07T02:41:15.634203Z",
     "start_time": "2024-10-07T02:41:15.588402Z"
    }
   },
   "outputs": [],
   "source": []
  },
  {
   "cell_type": "code",
   "execution_count": null,
   "metadata": {},
   "outputs": [],
   "source": []
  },
  {
   "cell_type": "code",
   "execution_count": null,
   "metadata": {},
   "outputs": [],
   "source": []
  }
 ],
 "metadata": {
  "kernelspec": {
   "display_name": "Python 3",
   "language": "python",
   "name": "python3"
  },
  "language_info": {
   "codemirror_mode": {
    "name": "ipython",
    "version": 3
   },
   "file_extension": ".py",
   "mimetype": "text/x-python",
   "name": "python",
   "nbconvert_exporter": "python",
   "pygments_lexer": "ipython3",
   "version": "3.12.7"
  }
 },
 "nbformat": 4,
 "nbformat_minor": 2
}
